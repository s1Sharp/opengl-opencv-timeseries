{
 "cells": [
  {
   "cell_type": "markdown",
   "metadata": {},
   "source": [
    "### HW\n",
    "\n",
    "* Осуществите фильтрацию изображения при помощи среднего и среднего взвешенного фильтра с различным размером ядра. \n",
    "* Сравните результаты медианного и среднего фильтра на изображении с шумом соли и перца.\n",
    "* Реализуйте медианный фильтр. Сравните с изображением, которое получается в результате применения функции cv2.medianBlur().\n",
    "* Реализуйте метод conv2D для выполнения операции свертки со следующими параметрами: img (входное изображение), kernel (ядро свертки), padding (отступ, по умолчанию 0), stride (шаг, по умолчанию 1). Сравните с изображением, которое получается в результате применения функции cv2.filter2D().\n",
    "\n"
   ]
  },
  {
   "cell_type": "code",
   "execution_count": null,
   "metadata": {},
   "outputs": [],
   "source": [
    "import cv2 as cv\n",
    "import PIL as pil\n",
    "from matplotlib import pyplot as plt\n",
    "import numpy as np\n",
    "\n",
    "%matplotlib inline"
   ]
  },
  {
   "cell_type": "code",
   "execution_count": null,
   "metadata": {},
   "outputs": [],
   "source": [
    "img = cv.imread('img.png')\n",
    "img = cv.cvtColor(img, cv.COLOR_BGR2RGB)\n",
    "plt.imshow(img)"
   ]
  },
  {
   "cell_type": "code",
   "execution_count": null,
   "metadata": {},
   "outputs": [],
   "source": [
    "img_gray = cv.imread('img.png', cv.IMREAD_GRAYSCALE)\n",
    "plt.imshow(img_gray, 'gray')"
   ]
  },
  {
   "cell_type": "markdown",
   "metadata": {},
   "source": [
    "* Осуществите фильтрацию изображения при помощи среднего и среднего взвешенного фильтра с различным размером ядра. "
   ]
  },
  {
   "cell_type": "code",
   "execution_count": null,
   "metadata": {},
   "outputs": [],
   "source": [
    "def printImgs(imgs):\n",
    "    fig = plt.figure(figsize=(8,24), dpi=500)\n",
    "    img_len = len(imgs)\n",
    "    for idx, img in enumerate(imgs):\n",
    "        fig.add_subplot(img_len, 1, idx + 1)\n",
    "        plt.imshow(img)"
   ]
  },
  {
   "cell_type": "code",
   "execution_count": null,
   "metadata": {},
   "outputs": [],
   "source": [
    "printImgs([\n",
    "    cv.blur(img,(3,3)),\n",
    "    cv.blur(img,(5,5)),\n",
    "    cv.blur(img,(7,7)),\n",
    "    cv.blur(img,(9,9)),\n",
    "])"
   ]
  },
  {
   "cell_type": "code",
   "execution_count": null,
   "metadata": {},
   "outputs": [],
   "source": [
    "printImgs([\n",
    "    cv.medianBlur(img, 3),\n",
    "    cv.medianBlur(img, 5),\n",
    "    cv.medianBlur(img, 7),\n",
    "    cv.medianBlur(img, 9),\n",
    "])"
   ]
  },
  {
   "cell_type": "markdown",
   "metadata": {},
   "source": [
    "* Сравните результаты медианного и среднего фильтра на изображении с шумом соли и перца."
   ]
  },
  {
   "cell_type": "code",
   "execution_count": null,
   "metadata": {},
   "outputs": [],
   "source": [
    "def add_sp_noise(image, s_vs_p_coef=0.5, amount=0.04):\n",
    "    if (len(image.shape) == 2):\n",
    "        row,col = image.shape\n",
    "    elif (len(image.shape) == 3):\n",
    "        row,col,_ = image.shape\n",
    "\n",
    "    out = np.copy(image)\n",
    "\n",
    "    # Salt mode\n",
    "    num_salt = int(np.ceil(amount * image.size * s_vs_p_coef))\n",
    "    coords = [(np.random.randint(0, int(row - 1)), np.random.randint(0, int(col - 1)))\n",
    "                for i in range(num_salt)]\n",
    "    for coord in coords:\n",
    "        out[coord[0]][coord[1]] = 255\n",
    "\n",
    "\n",
    "    # Pepper mode\n",
    "    num_pepper = int(np.ceil(amount* image.size * (1. - s_vs_p_coef)))\n",
    "    coords = [(np.random.randint(0, int(row - 1)), np.random.randint(0, int(col - 1)))\n",
    "                for i in range(num_pepper)]\n",
    "    for coord in coords:\n",
    "        out[coord[0]][coord[1]] = 0\n",
    "\n",
    "    return out"
   ]
  },
  {
   "cell_type": "code",
   "execution_count": null,
   "metadata": {},
   "outputs": [],
   "source": [
    "plt.imshow(add_sp_noise(img))"
   ]
  },
  {
   "cell_type": "code",
   "execution_count": null,
   "metadata": {},
   "outputs": [],
   "source": [
    "sp_noise_img = add_sp_noise(img)\n"
   ]
  },
  {
   "cell_type": "code",
   "execution_count": null,
   "metadata": {},
   "outputs": [],
   "source": [
    "printImgs([\n",
    "    cv.blur(sp_noise_img,(3,3)),\n",
    "    cv.blur(sp_noise_img,(5,5)),\n",
    "    cv.blur(sp_noise_img,(7,7)),\n",
    "    cv.blur(sp_noise_img,(9,9)),\n",
    "])"
   ]
  },
  {
   "cell_type": "code",
   "execution_count": null,
   "metadata": {},
   "outputs": [],
   "source": [
    "printImgs([\n",
    "    cv.medianBlur(sp_noise_img, 3),\n",
    "    cv.medianBlur(sp_noise_img, 5),\n",
    "    cv.medianBlur(sp_noise_img, 7),\n",
    "    cv.medianBlur(sp_noise_img, 9),\n",
    "])"
   ]
  },
  {
   "cell_type": "markdown",
   "metadata": {},
   "source": [
    "* Реализуйте медианный фильтр. Сравните с изображением, которое получается в результате применения функции cv2.medianBlur()."
   ]
  },
  {
   "cell_type": "markdown",
   "metadata": {},
   "source": [
    "В этой реализации функция my_medianBlur принимает входное изображение и размер ядра ksize. Затем он вычисляет необходимый размер заполнения и создает дополненное изображение с помощью np.pad. Вложенный цикл используется для перебора каждого пикселя изображения и извлечения окрестности. Операция медианы применяется с помощью np.median, и полученное значение устанавливается в выходное изображение. Наконец, отфильтрованное изображение отображается с помощью cv2.imshow.\n"
   ]
  },
  {
   "cell_type": "code",
   "execution_count": null,
   "metadata": {},
   "outputs": [],
   "source": [
    "plt.imshow(img)"
   ]
  },
  {
   "cell_type": "code",
   "execution_count": null,
   "metadata": {},
   "outputs": [],
   "source": [
    "import numpy as np\n",
    "\n",
    "def bad_my_medianBlur(image, ksize):\n",
    "    # Get image dimensions\n",
    "    height, width = image.shape[:2]\n",
    "    ch = None\n",
    "    if (len(image.shape) == 3):\n",
    "        ch = image.shape[2]\n",
    "\n",
    "    # Calculate padding size\n",
    "    pad_size = ksize // 2\n",
    "    \n",
    "    # Create a padded image\n",
    "    padded_image = np.pad(image, pad_size, mode='constant')\n",
    "    \n",
    "    # Create an empty output image\n",
    "    filtered_image = np.zeros_like(image)\n",
    "    \n",
    "    # Apply median filter\n",
    "    if ch:\n",
    "        for c in range(ch):\n",
    "            for i in range(height):\n",
    "                for j in range(width):\n",
    "                    # Extract neighborhood\n",
    "                    neighborhood = padded_image[i:i+ksize, j:j+ksize, c].flatten()\n",
    "                    \n",
    "                    # Apply median operation\n",
    "                    median_value = np.median(neighborhood)\n",
    "                    \n",
    "                    # Set filtered value in output image\n",
    "                    filtered_image[i, j, c] = median_value\n",
    "    \n",
    "    return filtered_image\n",
    "\n",
    "# Testing the custom bad_medianBlur function\n",
    "bad_filtered_image = bad_my_medianBlur(img, 3)\n",
    "\n",
    "# Display the filtered image\n",
    "plt.imshow(bad_filtered_image)\n"
   ]
  },
  {
   "cell_type": "code",
   "execution_count": null,
   "metadata": {},
   "outputs": [],
   "source": [
    "import numpy as np\n",
    "\n",
    "def my_medianBlur(image, ksize):\n",
    "    # Get image dimensions\n",
    "    height, width = image.shape[:2]\n",
    "    channels = None\n",
    "\n",
    "    # if channels exists and image not grayscaled\n",
    "    if (len(image.shape) == 3):\n",
    "        channels = image.shape[2]\n",
    "\n",
    "    # Calculate padding size\n",
    "    pad_size = ksize // 2\n",
    "\n",
    "    # if  image is color image\n",
    "    if channels:\n",
    "        # Create a padded image\n",
    "        padded_image = np.pad(image, ((pad_size, pad_size), (pad_size, pad_size), (0, 0)), mode='constant')\n",
    "        \n",
    "        # Create an empty output image\n",
    "        filtered_image = np.zeros_like(image)\n",
    "        \n",
    "        # Apply median filter\n",
    "        for i in range(height):\n",
    "            for j in range(width):\n",
    "                # Extract neighborhood\n",
    "                neighborhood = padded_image[i:i+ksize, j:j+ksize].reshape(-1, channels)\n",
    "                \n",
    "                # Apply median operation for each channel\n",
    "                median_values = np.median(neighborhood, axis=0)\n",
    "                \n",
    "                # Set filtered values in output image\n",
    "                filtered_image[i, j] = median_values\n",
    "\n",
    "    # image is grayscaled\n",
    "    else:\n",
    "        # Create a padded image\n",
    "        padded_image = np.pad(image, pad_size, mode='constant')\n",
    "        \n",
    "        # Create an empty output image\n",
    "        filtered_image = np.zeros_like(image)\n",
    "        \n",
    "        # Apply median filter\n",
    "        for i in range(height):\n",
    "            for j in range(width):\n",
    "                # Extract neighborhood\n",
    "                neighborhood = padded_image[i:i+ksize, j:j+ksize].flatten()\n",
    "                \n",
    "                # Apply median operation\n",
    "                median_value = np.median(neighborhood)\n",
    "                \n",
    "                # Set filtered value in output image\n",
    "                filtered_image[i, j] = median_value\n",
    "        \n",
    "    return filtered_image\n"
   ]
  },
  {
   "cell_type": "code",
   "execution_count": null,
   "metadata": {},
   "outputs": [],
   "source": [
    "# Testing the custom medianBlur function\n",
    "filtered_image = my_medianBlur(img_gray, 3)\n",
    "\n",
    "# Display the filtered image\n",
    "plt.imshow(filtered_image, 'gray')"
   ]
  },
  {
   "cell_type": "code",
   "execution_count": null,
   "metadata": {},
   "outputs": [],
   "source": [
    "# Testing the custom medianBlur function\n",
    "filtered_image = my_medianBlur(img, 3)\n",
    "\n",
    "# Display the filtered image\n",
    "plt.imshow(filtered_image)\n"
   ]
  },
  {
   "cell_type": "code",
   "execution_count": null,
   "metadata": {},
   "outputs": [],
   "source": [
    "# Testing the custom medianBlur function\n",
    "sp_noise_filtered_image = my_medianBlur(sp_noise_img, 3)\n",
    "\n",
    "# Display the filtered image\n",
    "plt.imshow(sp_noise_filtered_image)"
   ]
  },
  {
   "cell_type": "code",
   "execution_count": null,
   "metadata": {},
   "outputs": [],
   "source": [
    "printImgs([\n",
    "    my_medianBlur(sp_noise_img, 3),\n",
    "    my_medianBlur(sp_noise_img, 5),\n",
    "    my_medianBlur(sp_noise_img, 7),\n",
    "    my_medianBlur(sp_noise_img, 9),\n",
    "])"
   ]
  },
  {
   "cell_type": "code",
   "execution_count": null,
   "metadata": {},
   "outputs": [],
   "source": [
    "import numpy as np\n",
    "\n",
    "def conv2D(img, kernel, padding=0, stride=1):\n",
    "    img_height, img_width = img.shape[:2]\n",
    "    kernel_height, kernel_width = kernel.shape\n",
    "    \n",
    "    # Calculate output dimensions based on padding and stride\n",
    "    output_height = (img_height - kernel_height + 2 * padding) // stride + 1\n",
    "    output_width = (img_width - kernel_width + 2 * padding) // stride + 1\n",
    "\n",
    "    \n",
    "    if (len(img.shape) == 3):\n",
    "        # Apply padding to the input image\n",
    "        padded_img = np.pad(img, ((padding, padding), (padding, padding), (0, 0)), mode='constant')\n",
    "        \n",
    "        # Initialize the output image with zeros\n",
    "        output = np.zeros((output_height, output_width, img.shape[2]))\n",
    "        # Perform convolution operation for color image\n",
    "        for y in range(0, output_height):\n",
    "            for x in range(0, output_width):\n",
    "                # Extract the region of interest from padded image\n",
    "                for chanell in range(img.shape[2]):\n",
    "                    roi = padded_img[y * stride:y * stride + kernel_height, x * stride:x * stride + kernel_width, chanell]\n",
    "\n",
    "                    sm = np.sum(np.multiply(roi, kernel))\n",
    "                    output[y, x, chanell] = sm\n",
    "\n",
    "    # Perform convolution operation for grayscale\n",
    "    else:\n",
    "        # Apply padding to the input image\n",
    "        padded_img = np.pad(img, ((padding, padding), (padding, padding)), mode='constant')\n",
    "        \n",
    "        # Initialize the output image with zeros\n",
    "        output = np.zeros((output_height, output_width))\n",
    "        for y in range(0, output_height):\n",
    "            for x in range(0, output_width):\n",
    "                roi = padded_img[y * stride:y * stride + kernel_height, x * stride:x * stride + kernel_width]\n",
    "\n",
    "                sm = np.sum(np.multiply(roi, kernel))\n",
    "                output[y, x] = sm\n",
    "\n",
    "    return np.where(output<255,output,255).astype(np.uint8)"
   ]
  },
  {
   "cell_type": "code",
   "execution_count": null,
   "metadata": {},
   "outputs": [],
   "source": [
    "# Testing conv2D function\n",
    "kernel = np.array([[1, 0, -1], [1, 0, -1], [1, 0, -1]])\n",
    "convolved_output = conv2D(img_gray, kernel, 1, 1)\n",
    "plt.imshow(convolved_output, 'gray')\n",
    "\n",
    "# Comparison with cv2.filter2D()\n",
    "cv_output = cv.filter2D(img_gray, -1, kernel)\n",
    "plt.imshow(cv_output, 'gray')"
   ]
  },
  {
   "cell_type": "code",
   "execution_count": null,
   "metadata": {},
   "outputs": [],
   "source": [
    "ker = np.zeros((5,5),dtype=np.int8)\n",
    "ker[0,:] = 1\n",
    "ker[4,:] = -1\n",
    "\n",
    "convolved_output = conv2D(img, ker, 1, 1)\n",
    "plt.imshow(convolved_output)"
   ]
  },
  {
   "cell_type": "code",
   "execution_count": null,
   "metadata": {},
   "outputs": [],
   "source": [
    "# Testing conv2D function\n",
    "kernel = np.array([[1, 1, -1], [1, 1, -1], [1, -1, -1]])\n",
    "convolved_output = conv2D(img, kernel, 1, 1)\n",
    "plt.imshow(convolved_output)"
   ]
  },
  {
   "cell_type": "code",
   "execution_count": null,
   "metadata": {},
   "outputs": [],
   "source": [
    "# Testing conv2D function\n",
    "kernel = np.array([[1, 0, -1], [1, 0, -1], [1, 0, -1]])\n",
    "convolved_output = conv2D(img, kernel, 1, 1)\n",
    "plt.imshow(convolved_output)"
   ]
  },
  {
   "cell_type": "code",
   "execution_count": null,
   "metadata": {},
   "outputs": [],
   "source": [
    "# Comparison with cv2.filter2D()\n",
    "kernel = np.array([[1, 1, -1], [1, 1, -1], [1, -1, -1]])\n",
    "cv_output = cv.filter2D(img, -1, kernel)\n",
    "plt.imshow(cv_output)"
   ]
  }
 ],
 "metadata": {
  "kernelspec": {
   "display_name": "venv",
   "language": "python",
   "name": "python3"
  },
  "language_info": {
   "codemirror_mode": {
    "name": "ipython",
    "version": 3
   },
   "file_extension": ".py",
   "mimetype": "text/x-python",
   "name": "python",
   "nbconvert_exporter": "python",
   "pygments_lexer": "ipython3",
   "version": "3.10.12"
  }
 },
 "nbformat": 4,
 "nbformat_minor": 2
}
